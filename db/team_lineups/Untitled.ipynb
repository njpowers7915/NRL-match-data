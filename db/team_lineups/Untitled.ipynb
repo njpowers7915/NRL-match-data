{
 "cells": [
  {
   "cell_type": "code",
   "execution_count": 1,
   "metadata": {},
   "outputs": [],
   "source": [
    "#SQL Imports\n",
    "import mysql.connector\n",
    "#Pandas imports\n",
    "import pandas as pd"
   ]
  },
  {
   "cell_type": "code",
   "execution_count": 18,
   "metadata": {},
   "outputs": [],
   "source": [
    "mydb = mysql.connector.connect(\n",
    "  host=\"localhost\",\n",
    "  user=\"root\",\n",
    "  passwd=\"NYg1@nts\",\n",
    "  database=\"NRL_data\"\n",
    ")\n",
    "mycursor = mydb.cursor()"
   ]
  },
  {
   "cell_type": "code",
   "execution_count": 19,
   "metadata": {},
   "outputs": [],
   "source": [
    "mycursor.execute(\"USE NRL_data;\")"
   ]
  },
  {
   "cell_type": "code",
   "execution_count": 20,
   "metadata": {},
   "outputs": [],
   "source": [
    "team_match_query = \"SELECT id, home_team_id, away_team_id, winner FROM Matches;\"\n",
    "team_stat_query = '''\n",
    "SELECT SUM(points) as points,\n",
    "\tSUM(tries) as tries,\n",
    "    SUM(conversions) as conversions,\n",
    "    SUM(penalty_goals) as penalty_goals,\n",
    "    (SUM(conversions) / SUM(conversion_attempts)) as conversion_percentage,\n",
    "    SUM(field_goals) as field_goals,\n",
    "    SUM(total_runs) as runs,\n",
    "    SUM(total_run_metres) as run_metres,\n",
    "    (SUM(total_run_metres) / SUM(total_runs)) as metres_per_run,\n",
    "    SUM(kick_return_metres) as kick_return_metres,\n",
    "    SUM(post_contact_metres) as post_contact_metres,\n",
    "    SUM(line_breaks) as line_breaks,\n",
    "    SUM(line_engaged_runs) as line_engaged_runs,\n",
    "    SUM(tackle_breaks) as tackle_breaks,\n",
    "    SUM(hit_ups) as hit_ups,\n",
    "    SUM(dummy_half_runs) as dummy_half_runs,\n",
    "    SUM(offloads) as offloads,\n",
    "    SUM(passes) as passes,\n",
    "    SUM(tackles_made) as tackles_made,\n",
    "    SUM(tackles_missed) as tackles_missed,\n",
    "    SUM(ineffective_tackles) as ineffective_tackles,\n",
    "    (SUM(tackles_made) / (SUM(tackles_made) + SUM(tackles_missed) + SUM(ineffective_tackles))) as tackle_percentage,\n",
    "    SUM(kicks) as kicks,\n",
    "    SUM(kicking_metres) as kicking_metres,\n",
    "    (SUM(kicking_metres) / SUM(kicks)) as metres_per_kick,\n",
    "    SUM(errors) as errors,\n",
    "    SUM(handling_errors) as handling_errors,\n",
    "    SUM(penalties) as penalties,\n",
    "    SUM(sin_bins) as sin_bins,\n",
    "    SUM(send_offs) as send_offs\n",
    "FROM PlayerMatchStats\n",
    "WHERE match_id = %s\n",
    "\tAND team_id = %s;\n",
    "'''\n",
    "mycursor.execute(team_match_query)\n",
    "team_match_results = mycursor.fetchall()\n"
   ]
  },
  {
   "cell_type": "code",
   "execution_count": 21,
   "metadata": {},
   "outputs": [
    {
     "name": "stdout",
     "output_type": "stream",
     "text": [
      "(Decimal('34'), Decimal('5'), Decimal('4'), Decimal('3'), Decimal('0.8000'), Decimal('0'), Decimal('168'), Decimal('1618'), Decimal('9.6310'), Decimal('217'), Decimal('514'), Decimal('5'), Decimal('0'), Decimal('35'), Decimal('81'), Decimal('11'), Decimal('9'), Decimal('208'), Decimal('238'), Decimal('16'), Decimal('14'), Decimal('0.8881'), Decimal('17'), Decimal('478'), Decimal('28.1176'), Decimal('10'), Decimal('9'), Decimal('7'), Decimal('0'), Decimal('0'))\n",
      "\n",
      "\n",
      "(Decimal('12'), Decimal('2'), Decimal('1'), Decimal('1'), Decimal('0.5000'), Decimal('0'), Decimal('130'), Decimal('1076'), Decimal('8.2769'), Decimal('166'), Decimal('348'), Decimal('2'), Decimal('0'), Decimal('16'), Decimal('72'), Decimal('6'), Decimal('9'), Decimal('162'), Decimal('339'), Decimal('35'), Decimal('15'), Decimal('0.8715'), Decimal('14'), Decimal('382'), Decimal('27.2857'), Decimal('13'), Decimal('11'), Decimal('9'), Decimal('0'), Decimal('0'))\n",
      "\n",
      "\n",
      "(Decimal('19'), Decimal('3'), Decimal('3'), Decimal('0'), Decimal('1.0000'), Decimal('1'), Decimal('192'), Decimal('1425'), Decimal('7.4219'), Decimal('99'), Decimal('354'), Decimal('3'), Decimal('0'), Decimal('41'), Decimal('95'), Decimal('12'), Decimal('4'), Decimal('251'), Decimal('342'), Decimal('35'), Decimal('27'), Decimal('0.8465'), Decimal('21'), Decimal('538'), Decimal('25.6190'), Decimal('6'), Decimal('6'), Decimal('9'), Decimal('0'), Decimal('0'))\n",
      "\n",
      "\n",
      "(Decimal('18'), Decimal('3'), Decimal('2'), Decimal('1'), Decimal('0.6667'), Decimal('0'), Decimal('178'), Decimal('1648'), Decimal('9.2584'), Decimal('224'), Decimal('468'), Decimal('4'), Decimal('0'), Decimal('35'), Decimal('77'), Decimal('10'), Decimal('17'), Decimal('217'), Decimal('366'), Decimal('41'), Decimal('5'), Decimal('0.8883'), Decimal('13'), Decimal('284'), Decimal('21.8462'), Decimal('16'), Decimal('10'), Decimal('11'), Decimal('0'), Decimal('0'))\n",
      "\n",
      "\n"
     ]
    }
   ],
   "source": [
    "for result in team_match_results[:2]:\n",
    "    match_id = result[0]\n",
    "    for team in [result[1], result[2]]:\n",
    "        team_id = team\n",
    "        is_winner = team_id == result[3]\n",
    "        #print(team_id, is_winner)\n",
    "        if team == result[1]:\n",
    "            opponent_id = result[2]\n",
    "        else:\n",
    "            opponent_id = result[1]\n",
    "        mycursor.execute(team_stat_query, (match_id, team_id))\n",
    "        stat_results = mycursor.fetchone()\n",
    "        #print(match_id, team_id, is_winner, opponent_id)\n",
    "        print(stat_results)\n",
    "        print('\\n')  \n",
    "        \n",
    "    \n",
    "    #print(result)\n",
    "    "
   ]
  },
  {
   "cell_type": "code",
   "execution_count": 24,
   "metadata": {},
   "outputs": [
    {
     "data": {
      "text/plain": [
       "[(385,),\n",
       " (257,),\n",
       " (482,),\n",
       " (378,),\n",
       " (388,),\n",
       " (379,),\n",
       " (376,),\n",
       " (404,),\n",
       " (396,),\n",
       " (391,),\n",
       " (407,),\n",
       " (406,),\n",
       " (483,),\n",
       " (1626,),\n",
       " (402,),\n",
       " (397,),\n",
       " (219,)]"
      ]
     },
     "execution_count": 24,
     "metadata": {},
     "output_type": "execute_result"
    }
   ],
   "source": [
    "lineup_query = '''\n",
    "    SELECT player_id\n",
    "    FROM PlayerMatchStats\n",
    "    WHERE match_id = %s\n",
    "        AND team_id = %s\n",
    "    ORDER BY position_id, minutes_played DESC;'''\n",
    "mycursor.execute(lineup_query, (1, 14))\n",
    "lineup_results = mycursor.fetchall()\n",
    "lineup_results[0][0]"
   ]
  },
  {
   "cell_type": "code",
   "execution_count": 25,
   "metadata": {},
   "outputs": [],
   "source": [
    "#Prepare stat_results for database insert\n",
    "points = stat_results[0]\n",
    "tries = stat_results[1]\n",
    "conversions = stat_results[2]\n",
    "penalty_goals = stat_results[3]\n",
    "conversion_percentage = stat_results[4]\n",
    "field_goals = stat_results[5]\n",
    "runs = stat_results[6]\n",
    "run_metres = stat_results[7]\n",
    "metres_per_run = stat_results[8]\n",
    "kick_return_metres = stat_results[9]\n",
    "post_contact_metres = stat_results[10]\n",
    "line_breaks = stat_results[11]\n",
    "line_engaged_runs = stat_results[12]\n",
    "tackle_breaks = stat_results[13]\n",
    "hit_ups = stat_results[14]\n",
    "dummy_half_runs = stat_results[15]\n",
    "offloads = stat_results[16]\n",
    "passes = stat_results[17]\n",
    "tackles_made = stat_results[18]\n",
    "tackles_missed = stat_results[19]\n",
    "ineffective_tackles = stat_results[20]\n",
    "tackle_percentage = stat_results[21]\n",
    "kicks = stat_results[22]\n",
    "kicking_metres = stat_results[23]\n",
    "metres_per_kick = stat_results[24]\n",
    "errors = stat_results[25]\n",
    "handling_errors = stat_results[26]\n",
    "penalties = stat_results[27]\n",
    "sin_bins = stat_results[28]\n",
    "send_offs = stat_results[29]\n",
    "\n",
    "fullback = lineup_results[0][0]\n",
    "wing_1 = lineup_results[1][0]\n",
    "wing_2 = lineup_results[2][0]\n",
    "centre_1 = lineup_results[3][0]\n",
    "centre_2 = lineup_results[4][0]\n",
    "five_eighth = lineup_results[5][0]\n",
    "halfback = lineup_results[6][0]\n",
    "prop_1 = lineup_results[7][0]\n",
    "prop_2 = lineup_results[8][0]\n",
    "hooker = lineup_results[9][0]\n",
    "sr_1 = lineup_results[10][0]\n",
    "sr_2 = lineup_results[11][0]\n",
    "lock_1 = lineup_results[12][0]\n",
    "int_1 = lineup_results[13][0]\n",
    "int_2 = lineup_results[14][0]\n",
    "int_3 = lineup_results[15][0]\n",
    "int_4 = lineup_results[16][0]"
   ]
  },
  {
   "cell_type": "code",
   "execution_count": 27,
   "metadata": {},
   "outputs": [
    {
     "data": {
      "text/plain": [
       "False"
      ]
     },
     "execution_count": 27,
     "metadata": {},
     "output_type": "execute_result"
    }
   ],
   "source": [
    "mycursor.close()"
   ]
  },
  {
   "cell_type": "code",
   "execution_count": null,
   "metadata": {},
   "outputs": [],
   "source": []
  }
 ],
 "metadata": {
  "kernelspec": {
   "display_name": "Python 3",
   "language": "python",
   "name": "python3"
  },
  "language_info": {
   "codemirror_mode": {
    "name": "ipython",
    "version": 3
   },
   "file_extension": ".py",
   "mimetype": "text/x-python",
   "name": "python",
   "nbconvert_exporter": "python",
   "pygments_lexer": "ipython3",
   "version": "3.7.2"
  }
 },
 "nbformat": 4,
 "nbformat_minor": 2
}
