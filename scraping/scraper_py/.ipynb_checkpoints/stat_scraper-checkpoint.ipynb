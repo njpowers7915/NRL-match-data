{
 "cells": [
  {
   "cell_type": "code",
   "execution_count": 33,
   "metadata": {},
   "outputs": [],
   "source": [
    "#Scraping Imports\n",
    "from bs4 import BeautifulSoup\n",
    "import requests\n",
    "from selenium import webdriver\n",
    "from selenium.webdriver.common.by import By\n",
    "from selenium.webdriver.support.ui import WebDriverWait\n",
    "from selenium.webdriver.support import expected_conditions as EC\n",
    "from selenium.webdriver.common.keys import Keys\n",
    "from webdriver_manager.chrome import ChromeDriverManager"
   ]
  },
  {
   "cell_type": "code",
   "execution_count": 34,
   "metadata": {},
   "outputs": [],
   "source": [
    "#SQL Imports\n",
    "import mysql.connector\n",
    "#Pandas imports\n",
    "import pandas as pd"
   ]
  },
  {
   "cell_type": "code",
   "execution_count": 35,
   "metadata": {},
   "outputs": [],
   "source": [
    "column_names = ['player_id', 'team_id', 'match_id', 'number', 'position', 'minutes_played', 'points', 'tries',\n",
    "                'conversions','conversion_attempts', 'penalty_goals', 'conversion_percentage','field_goals',\n",
    "                'fantasy_points', 'total_runs', 'total_run_metres', 'kick_return_metres', 'post_contact_metres',\n",
    "                'line_breaks', 'line_break_assists', 'try_assists', 'line_engaged_runs', 'tackle_breaks', 'hit_ups',\n",
    "                'play_the_ball', 'average_play_the_ball_seconds', 'dummy_half_runs', 'dummy_half_run_metres', \n",
    "                'steals', 'offloads', 'dummy_passes', 'passes', 'receipts', 'pass_to_run_ratio', 'tackle_percentage',\n",
    "                'tackles_made', 'tackles_missed', 'ineffective_tackles', 'intercepts', 'kicks_defused', 'kicks',\n",
    "                'kicking_metres', 'forced_drop_outs', 'bomb_kicks', 'grubbers', 'fourty_twenty',\n",
    "                'cross_field_kicks', 'kicked_dead', 'errors', 'handling_errors', 'one_on_ones_lost', 'penalties',\n",
    "                'on_report', 'sin_bins', 'send_offs', 'stint_one', 'stint_two']"
   ]
  },
  {
   "cell_type": "code",
   "execution_count": 36,
   "metadata": {},
   "outputs": [],
   "source": [
    "#DB Connection\n",
    "mydb = mysql.connector.connect(\n",
    "  host=\"localhost\",\n",
    "  user=\"root\",\n",
    "  passwd=\"NYg1@nts\",\n",
    "  database=\"NRL_data\"\n",
    ")\n",
    "mycursor = mydb.cursor(buffered=True)"
   ]
  },
  {
   "cell_type": "code",
   "execution_count": 37,
   "metadata": {},
   "outputs": [],
   "source": [
    "#Find team and player ids\n",
    "def find_team_id(name):\n",
    "    find_team_query = 'SELECT id FROM Teams WHERE nickname = %s;'\n",
    "    mycursor.execute(find_team_query, (name,))\n",
    "    return mycursor.fetchone()[0]\n",
    "\n",
    "def find_position_id(name):\n",
    "    find_position_query = 'SELECT id FROM Positions WHERE position_name = %s;'\n",
    "    mycursor.execute(find_position_query, (name,))\n",
    "    return mycursor.fetchone()[0]"
   ]
  },
  {
   "cell_type": "code",
   "execution_count": 38,
   "metadata": {},
   "outputs": [],
   "source": [
    "def find_or_create_player(first_name, last_name, team_id):\n",
    "    find_player_query = 'SELECT id FROM Players WHERE first_name = %s AND last_name LIKE %s AND current_team = %s LIMIT 1;'\n",
    "    mycursor.execute(find_player_query, (first_name, '%' + last_name + '%', team_id))\n",
    "    result = mycursor.fetchone()\n",
    "    if result is None:\n",
    "        insert_player_query = 'INSERT INTO Players (first_name, last_name, current_team) VALUES (%s, %s, %s);'\n",
    "        data = (first_name, last_name, team_id)\n",
    "        mycursor.execute(insert_player_query, data)\n",
    "        mydb.commit()\n",
    "        result = find_or_create_player(first_name, last_name, team_id)\n",
    "        return result\n",
    "    else:\n",
    "        result = result[0]\n",
    "        return int(result)"
   ]
  },
  {
   "cell_type": "code",
   "execution_count": 59,
   "metadata": {
    "scrolled": true
   },
   "outputs": [
    {
     "name": "stdout",
     "output_type": "stream",
     "text": [
      "(1407, 2)\n",
      "        id                                                url\n",
      "256    257  http://www.nrl.com/draw/nrl-premiership/2019/r...\n",
      "257    258  http://www.nrl.com/draw/nrl-premiership/2019/r...\n",
      "258    259  http://www.nrl.com/draw/nrl-premiership/2019/r...\n",
      "259    327  http://www.nrl.com/draw/nrl-premiership/2019/r...\n",
      "260    328  http://www.nrl.com/draw/nrl-premiership/2019/r...\n",
      "261    329  http://www.nrl.com/draw/nrl-premiership/2019/r...\n",
      "262    330  http://www.nrl.com/draw/nrl-premiership/2019/r...\n",
      "263    331  http://www.nrl.com/draw/nrl-premiership/2019/r...\n",
      "264    332  http://www.nrl.com/draw/nrl-premiership/2019/r...\n",
      "265    333  http://www.nrl.com/draw/nrl-premiership/2019/r...\n",
      "266    334  http://www.nrl.com/draw/nrl-premiership/2019/r...\n",
      "267    335  http://www.nrl.com/draw/nrl-premiership/2019/r...\n",
      "268    336  http://www.nrl.com/draw/nrl-premiership/2019/r...\n",
      "269    337  http://www.nrl.com/draw/nrl-premiership/2019/r...\n",
      "270    338  http://www.nrl.com/draw/nrl-premiership/2019/r...\n",
      "271    339  http://www.nrl.com/draw/nrl-premiership/2019/r...\n",
      "272    340  http://www.nrl.com/draw/nrl-premiership/2019/r...\n",
      "273    341  http://www.nrl.com/draw/nrl-premiership/2019/r...\n",
      "274    342  http://www.nrl.com/draw/nrl-premiership/2019/r...\n",
      "275    343  http://www.nrl.com/draw/nrl-premiership/2019/r...\n",
      "276    344  http://www.nrl.com/draw/nrl-premiership/2019/r...\n",
      "277    345  http://www.nrl.com/draw/nrl-premiership/2019/r...\n",
      "278    346  http://www.nrl.com/draw/nrl-premiership/2019/r...\n",
      "279    347  http://www.nrl.com/draw/nrl-premiership/2019/r...\n",
      "280    348  http://www.nrl.com/draw/nrl-premiership/2019/r...\n",
      "281    349  http://www.nrl.com/draw/nrl-premiership/2019/r...\n",
      "282    350  http://www.nrl.com/draw/nrl-premiership/2019/r...\n",
      "283    351  http://www.nrl.com/draw/nrl-premiership/2019/r...\n",
      "284    352  http://www.nrl.com/draw/nrl-premiership/2019/r...\n",
      "285    353  http://www.nrl.com/draw/nrl-premiership/2019/r...\n",
      "...    ...                                                ...\n",
      "1377  1446  https://www.nrl.com/draw/nrl-premiership/2013/...\n",
      "1378  1447  https://www.nrl.com/draw/nrl-premiership/2013/...\n",
      "1379  1448  https://www.nrl.com/draw/nrl-premiership/2013/...\n",
      "1380  1449  https://www.nrl.com/draw/nrl-premiership/2013/...\n",
      "1381  1450  https://www.nrl.com/draw/nrl-premiership/2013/...\n",
      "1382  1451  https://www.nrl.com/draw/nrl-premiership/2013/...\n",
      "1383  1452  https://www.nrl.com/draw/nrl-premiership/2013/...\n",
      "1384  1453  https://www.nrl.com/draw/nrl-premiership/2013/...\n",
      "1385  1454  https://www.nrl.com/draw/nrl-premiership/2013/...\n",
      "1386  1455  https://www.nrl.com/draw/nrl-premiership/2013/...\n",
      "1387  1456  https://www.nrl.com/draw/nrl-premiership/2013/...\n",
      "1388  1457  https://www.nrl.com/draw/nrl-premiership/2013/...\n",
      "1389  1458  https://www.nrl.com/draw/nrl-premiership/2013/...\n",
      "1390  1459  https://www.nrl.com/draw/nrl-premiership/2013/...\n",
      "1391  1460  https://www.nrl.com/draw/nrl-premiership/2013/...\n",
      "1392  1461  https://www.nrl.com/draw/nrl-premiership/2013/...\n",
      "1393  1462  https://www.nrl.com/draw/nrl-premiership/2013/...\n",
      "1394  1463  https://www.nrl.com/draw/nrl-premiership/2013/...\n",
      "1395  1464  https://www.nrl.com/draw/nrl-premiership/2013/...\n",
      "1396  1465  https://www.nrl.com/draw/nrl-premiership/2013/...\n",
      "1397  1466  https://www.nrl.com/draw/nrl-premiership/2013/...\n",
      "1398  1467  https://www.nrl.com/draw/nrl-premiership/2013/...\n",
      "1399  1468  https://www.nrl.com/draw/nrl-premiership/2013/...\n",
      "1400  1469  https://www.nrl.com/draw/nrl-premiership/2013/...\n",
      "1401  1470  https://www.nrl.com/draw/nrl-premiership/2013/...\n",
      "1402  1471  https://www.nrl.com/draw/nrl-premiership/2013/...\n",
      "1403  1472  https://www.nrl.com/draw/nrl-premiership/2013/...\n",
      "1404  1473  https://www.nrl.com/draw/nrl-premiership/2013/...\n",
      "1405  1474  https://www.nrl.com/draw/nrl-premiership/2013/...\n",
      "1406  1475  https://www.nrl.com/draw/nrl-premiership/2013/...\n",
      "\n",
      "[1151 rows x 2 columns]\n"
     ]
    }
   ],
   "source": [
    "#1. Get URLs that need to be scraped\n",
    "errors = {'url': []}\n",
    "match_dictionary = {}\n",
    "#Find matches that were already scraped\n",
    "already_scraped = 'SELECT DISTINCT match_id FROM PlayerMatchStats;'\n",
    "mycursor.execute(already_scraped,)\n",
    "results = mycursor.fetchall()\n",
    "already_scraped_list = list(map(lambda x: x[0], results))\n",
    "#print(tuple(already_scraped_list))\n",
    "\n",
    "all_matches = 'SELECT id, YEAR(date), url FROM Matches;'\n",
    "mycursor.execute(all_matches,)\n",
    "results = mycursor.fetchall()\n",
    "\n",
    "all_matches_query = pd.read_sql_query('SELECT id, url FROM Matches;', mydb)\n",
    "#print(results)\n",
    "all_match_df = pd.DataFrame(all_matches_query, columns=['id', 'url'])\n",
    "print(all_match_df.shape)\n",
    "not_yet_scraped = set(list(all_match_df['id'])) - set(already_scraped_list)\n",
    "not_yet_scraped_df = all_match_df[all_match_df['id'].isin(not_yet_scraped)]\n",
    "print(not_yet_scraped_df)"
   ]
  },
  {
   "cell_type": "code",
   "execution_count": null,
   "metadata": {},
   "outputs": [],
   "source": [
    "not_yet_scraped"
   ]
  },
  {
   "cell_type": "code",
   "execution_count": 9,
   "metadata": {},
   "outputs": [
    {
     "name": "stdout",
     "output_type": "stream",
     "text": [
      "\n",
      "Checking for mac64 chromedriver:80.0.3987.106 in cache\n",
      "There is no cached driver. Downloading new one...\n",
      "Trying to download new driver from http://chromedriver.storage.googleapis.com/80.0.3987.106/chromedriver_mac64.zip\n",
      "Unpack archive /Users/nickpowers/.wdm/chromedriver/80.0.3987.106/mac64/chromedriver.zip\n"
     ]
    }
   ],
   "source": [
    "#2. Set Up WebDriver\n",
    "driver = webdriver.Chrome(ChromeDriverManager().install())\n",
    "wait = WebDriverWait(driver, 10)"
   ]
  },
  {
   "cell_type": "code",
   "execution_count": null,
   "metadata": {},
   "outputs": [],
   "source": []
  }
 ],
 "metadata": {
  "kernelspec": {
   "display_name": "Python 3",
   "language": "python",
   "name": "python3"
  },
  "language_info": {
   "codemirror_mode": {
    "name": "ipython",
    "version": 3
   },
   "file_extension": ".py",
   "mimetype": "text/x-python",
   "name": "python",
   "nbconvert_exporter": "python",
   "pygments_lexer": "ipython3",
   "version": "3.7.2"
  }
 },
 "nbformat": 4,
 "nbformat_minor": 2
}
