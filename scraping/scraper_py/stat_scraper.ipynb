{
 "cells": [
  {
   "cell_type": "code",
   "execution_count": 30,
   "metadata": {},
   "outputs": [],
   "source": [
    "#Scraping Imports\n",
    "from bs4 import BeautifulSoup\n",
    "import requests\n",
    "from selenium import webdriver\n",
    "from selenium.webdriver.common.by import By\n",
    "from selenium.webdriver.support.ui import WebDriverWait\n",
    "from selenium.webdriver.support import expected_conditions as EC\n",
    "from selenium.webdriver.common.keys import Keys\n",
    "from webdriver_manager.chrome import ChromeDriverManager"
   ]
  },
  {
   "cell_type": "code",
   "execution_count": 31,
   "metadata": {},
   "outputs": [],
   "source": [
    "#SQL Imports\n",
    "import mysql.connector\n",
    "#Pandas imports\n",
    "import pandas as pd"
   ]
  },
  {
   "cell_type": "code",
   "execution_count": 32,
   "metadata": {},
   "outputs": [],
   "source": [
    "column_names = ['player_id', 'team_id', 'match_id', 'number', 'position', 'minutes_played', 'points', 'tries',\n",
    "                'conversions','conversion_attempts', 'penalty_goals', 'conversion_percentage','field_goals',\n",
    "                'fantasy_points', 'total_runs', 'total_run_metres', 'kick_return_metres', 'post_contact_metres',\n",
    "                'line_breaks', 'line_break_assists', 'try_assists', 'line_engaged_runs', 'tackle_breaks', 'hit_ups',\n",
    "                'play_the_ball', 'average_play_the_ball_seconds', 'dummy_half_runs', 'dummy_half_run_metres', \n",
    "                'steals', 'offloads', 'dummy_passes', 'passes', 'receipts', 'pass_to_run_ratio', 'tackle_percentage',\n",
    "                'tackles_made', 'tackles_missed', 'ineffective_tackles', 'intercepts', 'kicks_defused', 'kicks',\n",
    "                'kicking_metres', 'forced_drop_outs', 'bomb_kicks', 'grubbers', 'fourty_twenty',\n",
    "                'cross_field_kicks', 'kicked_dead', 'errors', 'handling_errors', 'one_on_ones_lost', 'penalties',\n",
    "                'on_report', 'sin_bins', 'send_offs', 'stint_one', 'stint_two']"
   ]
  },
  {
   "cell_type": "code",
   "execution_count": 33,
   "metadata": {},
   "outputs": [],
   "source": [
    "#DB Connection\n",
    "mydb = mysql.connector.connect(\n",
    "  host=\"localhost\",\n",
    "  user=\"root\",\n",
    "  passwd=\"NYg1@nts\",\n",
    "  database=\"NRL_data\"\n",
    ")\n",
    "mycursor = mydb.cursor(buffered=True)"
   ]
  },
  {
   "cell_type": "code",
   "execution_count": 34,
   "metadata": {},
   "outputs": [],
   "source": [
    "#Find team and player ids\n",
    "def find_team_id(name):\n",
    "    find_team_query = 'SELECT id FROM Teams WHERE nickname = %s;'\n",
    "    mycursor.execute(find_team_query, (name,))\n",
    "    return mycursor.fetchone()[0]\n",
    "\n",
    "def find_position_id(name):\n",
    "    find_position_query = 'SELECT id FROM Positions WHERE position_name = %s;'\n",
    "    mycursor.execute(find_position_query, (name,))\n",
    "    return mycursor.fetchone()[0]"
   ]
  },
  {
   "cell_type": "code",
   "execution_count": 35,
   "metadata": {},
   "outputs": [],
   "source": [
    "def find_or_create_player(first_name, last_name, team_id):\n",
    "    find_player_query = 'SELECT id FROM Players WHERE first_name = %s AND last_name LIKE %s AND current_team = %s LIMIT 1;'\n",
    "    mycursor.execute(find_player_query, (first_name, '%' + last_name + '%', team_id))\n",
    "    result = mycursor.fetchone()\n",
    "    if result is None:\n",
    "        insert_player_query = 'INSERT INTO Players (first_name, last_name, current_team) VALUES (%s, %s, %s);'\n",
    "        data = (first_name, last_name, team_id)\n",
    "        mycursor.execute(insert_player_query, data)\n",
    "        mydb.commit()\n",
    "        result = find_or_create_player(first_name, last_name, team_id)\n",
    "        return result\n",
    "    else:\n",
    "        result = result[0]\n",
    "        return int(result)"
   ]
  },
  {
   "cell_type": "code",
   "execution_count": 77,
   "metadata": {
    "scrolled": true
   },
   "outputs": [],
   "source": [
    "#1. Get URLs that need to be scraped\n",
    "###errors = {'url': []}\n",
    "#Find matches that were already scraped\n",
    "already_scraped = 'SELECT DISTINCT match_id FROM PlayerMatchStats;'\n",
    "mycursor.execute(already_scraped,)\n",
    "results = mycursor.fetchall()\n",
    "already_scraped_list = list(map(lambda x: x[0], results))\n",
    "\n",
    "#Find all matches\n",
    "all_matches_query = pd.read_sql_query('SELECT id, date, url, home_team_id, away_team_id FROM Matches;', mydb)\n",
    "all_match_df = pd.DataFrame(all_matches_query, columns=['id', 'date', 'url', 'home_team_id', 'away_team_id'])\n",
    "\n",
    "#Remove matches which were already scraped\n",
    "not_yet_scraped = set(list(all_match_df['id'])) - set(already_scraped_list)\n",
    "not_yet_scraped_df = all_match_df[all_match_df['id'].isin(not_yet_scraped)]\n",
    "#print(not_yet_scraped_df)"
   ]
  },
  {
   "cell_type": "code",
   "execution_count": 76,
   "metadata": {},
   "outputs": [
    {
     "name": "stderr",
     "output_type": "stream",
     "text": [
      "/Library/Frameworks/Python.framework/Versions/3.7/lib/python3.7/site-packages/ipykernel_launcher.py:1: SettingWithCopyWarning: \n",
      "A value is trying to be set on a copy of a slice from a DataFrame.\n",
      "Try using .loc[row_indexer,col_indexer] = value instead\n",
      "\n",
      "See the caveats in the documentation: http://pandas.pydata.org/pandas-docs/stable/indexing.html#indexing-view-versus-copy\n",
      "  \"\"\"Entry point for launching an IPython kernel.\n"
     ]
    }
   ],
   "source": [
    "not_yet_scraped_df['date'] = pd.to_datetime(not_yet_scraped_df['date'])\n",
    "\n",
    "for year in list(not_yet_scraped_df['date'].dt.year.unique()):\n",
    "    scraping_dict[year] = not_yet_scraped_df[not_yet_scraped_df['date'].dt.year == year]\n",
    "    \n",
    "for match in scraping_dict[year].iterrows():\n",
    "    try:\n",
    "        driver.get(match['url'])\n",
    "        \n",
    "        #home_xpath_div = '1', away_xpath_div = '2'\n",
    "        for xpath in ['1', '2']:\n",
    "            wait.until(EC.presence_of_element_located((By.XPATH, '//*[@id=\"player-stats\"]/div[' + xpath + ']/div/div[3]/div/table/tbody')))\n",
    "            \n",
    "            for i in range(1, 18):\n",
    "                name_field = driver.find_element_by_xpath('//*[@id=\"player-stats\"]/div[' + xpath + ']/div/div[3]/div/table/tbody/tr['+ str(i) +']/td[2]/a').get_attribute('innerText').strip()\n",
    "                first_name = name_field.split(' ')[0].strip().capitalize()\n",
    "                last_name = name_field.split(' ')[-1].strip().capitalize()\n",
    "                middle_name = name_field.split(' ')[-2].strip()\n",
    "                if middle_name.isalpha():\n",
    "                    last_name = middle_name.capitalize() + ' ' + last_name\n",
    "                if xpath == '1':\n",
    "                    current_team = match['home_team_id']\n",
    "                elif xpath == '2':\n",
    "                    current_team = match['away_team_id']\n",
    "                full_name = first_name + '_' + last_name + '_' + current_team\n",
    "                player_id = find_or_create_player(first_name, last_name, str(current_team))\n",
    "                #print(player_id)\n",
    "#scraping_dict[2017]"
   ]
  },
  {
   "cell_type": "code",
   "execution_count": null,
   "metadata": {},
   "outputs": [],
   "source": []
  },
  {
   "cell_type": "code",
   "execution_count": 9,
   "metadata": {},
   "outputs": [
    {
     "name": "stdout",
     "output_type": "stream",
     "text": [
      "\n",
      "Checking for mac64 chromedriver:80.0.3987.106 in cache\n",
      "There is no cached driver. Downloading new one...\n",
      "Trying to download new driver from http://chromedriver.storage.googleapis.com/80.0.3987.106/chromedriver_mac64.zip\n",
      "Unpack archive /Users/nickpowers/.wdm/chromedriver/80.0.3987.106/mac64/chromedriver.zip\n"
     ]
    }
   ],
   "source": [
    "#2. Set Up WebDriver\n",
    "driver = webdriver.Chrome(ChromeDriverManager().install())\n",
    "wait = WebDriverWait(driver, 10)"
   ]
  },
  {
   "cell_type": "code",
   "execution_count": null,
   "metadata": {},
   "outputs": [],
   "source": []
  }
 ],
 "metadata": {
  "kernelspec": {
   "display_name": "Python 3",
   "language": "python",
   "name": "python3"
  },
  "language_info": {
   "codemirror_mode": {
    "name": "ipython",
    "version": 3
   },
   "file_extension": ".py",
   "mimetype": "text/x-python",
   "name": "python",
   "nbconvert_exporter": "python",
   "pygments_lexer": "ipython3",
   "version": "3.7.2"
  }
 },
 "nbformat": 4,
 "nbformat_minor": 2
}
